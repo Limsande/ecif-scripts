{
 "cells": [
  {
   "cell_type": "markdown",
   "id": "c2c057a7",
   "metadata": {},
   "source": [
    "# Validate our ECIF calculations #\n",
    "\n",
    "Compare ECIF::LD for the same complex, calculated with our script vs. calculated with the example code given by Sánchez-Cruz et al.\n",
    "\n",
    "**NOTE: This will not run properly with RDKit 2021.09.1 and pandas >1.1.2 due to a name change in the `pandas.io` module (see [this bug report](https://github.com/rdkit/rdkit/issues/3701)). Until the fixed version 2021.09.2 of RDKit reaches the conda repositories, make sure that your version of pandas is not greater than 1.1.2.**"
   ]
  },
  {
   "cell_type": "code",
   "execution_count": 1,
   "id": "54419f1d",
   "metadata": {},
   "outputs": [
    {
     "name": "stderr",
     "output_type": "stream",
     "text": [
      "RDKit ERROR: [16:19:58] Explicit valence for atom # 17 C, 6, is greater than permitted\n",
      "[16:19:58] Explicit valence for atom # 17 C, 6, is greater than permitted\n",
      "Traceback (most recent call last):\n",
      "  File \"/home/Luis/.conda/envs/ecif/lib/python3.7/site-packages/rdkit/ML/Descriptors/MoleculeDescriptors.py\", line 88, in CalcDescriptors\n",
      "    res[i] = fn(mol)\n",
      "  File \"/home/Luis/.conda/envs/ecif/lib/python3.7/site-packages/rdkit/Chem/QED.py\", line 286, in qed\n",
      "    qedProperties = properties(mol)\n",
      "  File \"/home/Luis/.conda/envs/ecif/lib/python3.7/site-packages/rdkit/Chem/QED.py\", line 249, in properties\n",
      "    mol = Chem.RemoveHs(mol)\n",
      "rdkit.Chem.rdchem.AtomValenceException: Explicit valence for atom # 17 C, 6, is greater than permitted\n",
      "RDKit ERROR: [16:19:58] Explicit valence for atom # 17 C, 6, is greater than permitted\n",
      "[16:19:58] Explicit valence for atom # 17 C, 6, is greater than permitted\n",
      "Traceback (most recent call last):\n",
      "  File \"/home/Luis/.conda/envs/ecif/lib/python3.7/site-packages/rdkit/ML/Descriptors/MoleculeDescriptors.py\", line 88, in CalcDescriptors\n",
      "    res[i] = fn(mol)\n",
      "  File \"/home/Luis/.conda/envs/ecif/lib/python3.7/site-packages/rdkit/Chem/QED.py\", line 286, in qed\n",
      "    qedProperties = properties(mol)\n",
      "  File \"/home/Luis/.conda/envs/ecif/lib/python3.7/site-packages/rdkit/Chem/QED.py\", line 249, in properties\n",
      "    mol = Chem.RemoveHs(mol)\n",
      "rdkit.Chem.rdchem.AtomValenceException: Explicit valence for atom # 17 C, 6, is greater than permitted\n"
     ]
    }
   ],
   "source": [
    "import sys\n",
    "sys.path.append('..')\n",
    "import pandas as pd\n",
    "from ECIF.ecif import *\n",
    "import calculate_ecif as cf\n",
    "\n",
    "# Two example structures\n",
    "protein = \"../ECIF/Example_Structures/1a0q_protein.pdb\"\n",
    "ligand = \"../ECIF/Example_Structures/1a0q_ligandCD1.sdf\"\n",
    "\n",
    "# Calculate descriptors with their code\n",
    "# (from https://github.com/DIFACQUIM/ECIF/02_Examples(Descriptors).ipynb)\n",
    "their_ecif = GetECIF(protein, ligand, distance_cutoff=6.0)\n",
    "their_ld = GetRDKitDescriptors(ligand)\n",
    "\n",
    "their_ecif_ld = pd.DataFrame([their_ecif], columns=PossibleECIF).join(pd.DataFrame([their_ld], columns=LigandDescriptors))\n",
    "\n",
    "# Calculate descriptors with our code\n",
    "our_ecif_ld = get_ecif_ld(receptor_files=protein, ligand_files=ligand, cutoff=6.0)"
   ]
  },
  {
   "cell_type": "code",
   "execution_count": 2,
   "id": "99fbb018",
   "metadata": {},
   "outputs": [
    {
     "data": {
      "text/html": [
       "<div>\n",
       "<style scoped>\n",
       "    .dataframe tbody tr th:only-of-type {\n",
       "        vertical-align: middle;\n",
       "    }\n",
       "\n",
       "    .dataframe tbody tr th {\n",
       "        vertical-align: top;\n",
       "    }\n",
       "\n",
       "    .dataframe thead th {\n",
       "        text-align: right;\n",
       "    }\n",
       "</style>\n",
       "<table border=\"1\" class=\"dataframe\">\n",
       "  <thead>\n",
       "    <tr style=\"text-align: right;\">\n",
       "      <th></th>\n",
       "      <th>C;4;1;3;0;0-Br;1;1;0;0;0</th>\n",
       "      <th>C;4;1;3;0;0-C;3;3;0;1;1</th>\n",
       "      <th>C;4;1;3;0;0-C;4;1;1;0;0</th>\n",
       "      <th>C;4;1;3;0;0-C;4;1;2;0;0</th>\n",
       "      <th>C;4;1;3;0;0-C;4;1;3;0;0</th>\n",
       "      <th>C;4;1;3;0;0-C;4;2;0;0;0</th>\n",
       "      <th>C;4;1;3;0;0-C;4;2;1;0;0</th>\n",
       "      <th>C;4;1;3;0;0-C;4;2;1;0;1</th>\n",
       "      <th>C;4;1;3;0;0-C;4;2;1;1;1</th>\n",
       "      <th>C;4;1;3;0;0-C;4;2;2;0;0</th>\n",
       "      <th>...</th>\n",
       "      <th>fr_quatN</th>\n",
       "      <th>fr_sulfide</th>\n",
       "      <th>fr_sulfonamd</th>\n",
       "      <th>fr_sulfone</th>\n",
       "      <th>fr_term_acetylene</th>\n",
       "      <th>fr_tetrazole</th>\n",
       "      <th>fr_thiazole</th>\n",
       "      <th>fr_thiocyan</th>\n",
       "      <th>fr_thiophene</th>\n",
       "      <th>fr_urea</th>\n",
       "    </tr>\n",
       "  </thead>\n",
       "  <tbody>\n",
       "    <tr>\n",
       "      <th>0</th>\n",
       "      <td>0</td>\n",
       "      <td>0</td>\n",
       "      <td>0</td>\n",
       "      <td>0</td>\n",
       "      <td>3</td>\n",
       "      <td>0</td>\n",
       "      <td>0</td>\n",
       "      <td>0</td>\n",
       "      <td>15</td>\n",
       "      <td>8</td>\n",
       "      <td>...</td>\n",
       "      <td>0</td>\n",
       "      <td>0</td>\n",
       "      <td>0</td>\n",
       "      <td>0</td>\n",
       "      <td>0</td>\n",
       "      <td>0</td>\n",
       "      <td>0</td>\n",
       "      <td>0</td>\n",
       "      <td>0</td>\n",
       "      <td>0</td>\n",
       "    </tr>\n",
       "  </tbody>\n",
       "</table>\n",
       "<p>1 rows × 1710 columns</p>\n",
       "</div>"
      ],
      "text/plain": [
       "   C;4;1;3;0;0-Br;1;1;0;0;0  C;4;1;3;0;0-C;3;3;0;1;1  C;4;1;3;0;0-C;4;1;1;0;0  \\\n",
       "0                         0                        0                        0   \n",
       "\n",
       "   C;4;1;3;0;0-C;4;1;2;0;0  C;4;1;3;0;0-C;4;1;3;0;0  C;4;1;3;0;0-C;4;2;0;0;0  \\\n",
       "0                        0                        3                        0   \n",
       "\n",
       "   C;4;1;3;0;0-C;4;2;1;0;0  C;4;1;3;0;0-C;4;2;1;0;1  C;4;1;3;0;0-C;4;2;1;1;1  \\\n",
       "0                        0                        0                       15   \n",
       "\n",
       "   C;4;1;3;0;0-C;4;2;2;0;0  ...  fr_quatN  fr_sulfide  fr_sulfonamd  \\\n",
       "0                        8  ...         0           0             0   \n",
       "\n",
       "   fr_sulfone  fr_term_acetylene  fr_tetrazole  fr_thiazole  fr_thiocyan  \\\n",
       "0           0                  0             0            0            0   \n",
       "\n",
       "   fr_thiophene  fr_urea  \n",
       "0             0        0  \n",
       "\n",
       "[1 rows x 1710 columns]"
      ]
     },
     "execution_count": 2,
     "metadata": {},
     "output_type": "execute_result"
    }
   ],
   "source": [
    "their_ecif_ld.head()"
   ]
  },
  {
   "cell_type": "code",
   "execution_count": 3,
   "id": "190f99ed",
   "metadata": {},
   "outputs": [
    {
     "data": {
      "text/html": [
       "<div>\n",
       "<style scoped>\n",
       "    .dataframe tbody tr th:only-of-type {\n",
       "        vertical-align: middle;\n",
       "    }\n",
       "\n",
       "    .dataframe tbody tr th {\n",
       "        vertical-align: top;\n",
       "    }\n",
       "\n",
       "    .dataframe thead th {\n",
       "        text-align: right;\n",
       "    }\n",
       "</style>\n",
       "<table border=\"1\" class=\"dataframe\">\n",
       "  <thead>\n",
       "    <tr style=\"text-align: right;\">\n",
       "      <th></th>\n",
       "      <th>C;4;1;3;0;0-Br;1;1;0;0;0</th>\n",
       "      <th>C;4;1;3;0;0-C;3;3;0;1;1</th>\n",
       "      <th>C;4;1;3;0;0-C;4;1;1;0;0</th>\n",
       "      <th>C;4;1;3;0;0-C;4;1;2;0;0</th>\n",
       "      <th>C;4;1;3;0;0-C;4;1;3;0;0</th>\n",
       "      <th>C;4;1;3;0;0-C;4;2;0;0;0</th>\n",
       "      <th>C;4;1;3;0;0-C;4;2;1;0;0</th>\n",
       "      <th>C;4;1;3;0;0-C;4;2;1;0;1</th>\n",
       "      <th>C;4;1;3;0;0-C;4;2;1;1;1</th>\n",
       "      <th>C;4;1;3;0;0-C;4;2;2;0;0</th>\n",
       "      <th>...</th>\n",
       "      <th>fr_quatN</th>\n",
       "      <th>fr_sulfide</th>\n",
       "      <th>fr_sulfonamd</th>\n",
       "      <th>fr_sulfone</th>\n",
       "      <th>fr_term_acetylene</th>\n",
       "      <th>fr_tetrazole</th>\n",
       "      <th>fr_thiazole</th>\n",
       "      <th>fr_thiocyan</th>\n",
       "      <th>fr_thiophene</th>\n",
       "      <th>fr_urea</th>\n",
       "    </tr>\n",
       "  </thead>\n",
       "  <tbody>\n",
       "    <tr>\n",
       "      <th>0</th>\n",
       "      <td>0</td>\n",
       "      <td>0</td>\n",
       "      <td>0</td>\n",
       "      <td>0</td>\n",
       "      <td>3</td>\n",
       "      <td>0</td>\n",
       "      <td>0</td>\n",
       "      <td>0</td>\n",
       "      <td>15</td>\n",
       "      <td>8</td>\n",
       "      <td>...</td>\n",
       "      <td>0</td>\n",
       "      <td>0</td>\n",
       "      <td>0</td>\n",
       "      <td>0</td>\n",
       "      <td>0</td>\n",
       "      <td>0</td>\n",
       "      <td>0</td>\n",
       "      <td>0</td>\n",
       "      <td>0</td>\n",
       "      <td>0</td>\n",
       "    </tr>\n",
       "  </tbody>\n",
       "</table>\n",
       "<p>1 rows × 1710 columns</p>\n",
       "</div>"
      ],
      "text/plain": [
       "   C;4;1;3;0;0-Br;1;1;0;0;0  C;4;1;3;0;0-C;3;3;0;1;1  C;4;1;3;0;0-C;4;1;1;0;0  \\\n",
       "0                         0                        0                        0   \n",
       "\n",
       "   C;4;1;3;0;0-C;4;1;2;0;0  C;4;1;3;0;0-C;4;1;3;0;0  C;4;1;3;0;0-C;4;2;0;0;0  \\\n",
       "0                        0                        3                        0   \n",
       "\n",
       "   C;4;1;3;0;0-C;4;2;1;0;0  C;4;1;3;0;0-C;4;2;1;0;1  C;4;1;3;0;0-C;4;2;1;1;1  \\\n",
       "0                        0                        0                       15   \n",
       "\n",
       "   C;4;1;3;0;0-C;4;2;2;0;0  ...  fr_quatN  fr_sulfide  fr_sulfonamd  \\\n",
       "0                        8  ...         0           0             0   \n",
       "\n",
       "   fr_sulfone  fr_term_acetylene  fr_tetrazole  fr_thiazole  fr_thiocyan  \\\n",
       "0           0                  0             0            0            0   \n",
       "\n",
       "   fr_thiophene  fr_urea  \n",
       "0             0        0  \n",
       "\n",
       "[1 rows x 1710 columns]"
      ]
     },
     "execution_count": 3,
     "metadata": {},
     "output_type": "execute_result"
    }
   ],
   "source": [
    "our_ecif_ld.head()"
   ]
  },
  {
   "cell_type": "markdown",
   "id": "5df17f32",
   "metadata": {},
   "source": [
    "Comparing both descriptors, we find that all values are equal."
   ]
  },
  {
   "cell_type": "code",
   "execution_count": 4,
   "id": "21caedc8",
   "metadata": {},
   "outputs": [
    {
     "data": {
      "text/plain": [
       "True"
      ]
     },
     "execution_count": 4,
     "metadata": {},
     "output_type": "execute_result"
    }
   ],
   "source": [
    "our_ecif_ld.equals(their_ecif_ld)"
   ]
  }
 ],
 "metadata": {
  "kernelspec": {
   "display_name": "Python 3",
   "language": "python",
   "name": "python3"
  },
  "language_info": {
   "codemirror_mode": {
    "name": "ipython",
    "version": 3
   },
   "file_extension": ".py",
   "mimetype": "text/x-python",
   "name": "python",
   "nbconvert_exporter": "python",
   "pygments_lexer": "ipython3",
   "version": "3.7.11"
  }
 },
 "nbformat": 4,
 "nbformat_minor": 5
}
