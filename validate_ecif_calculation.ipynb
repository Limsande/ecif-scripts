{
 "cells": [
  {
   "cell_type": "markdown",
   "id": "c2c057a7",
   "metadata": {},
   "source": [
    "# Validate our ECIF calculations #\n",
    "\n",
    "Compare ECIF::LD for the same complex, calculated with our script vs. calculated with their example code."
   ]
  },
  {
   "cell_type": "code",
   "execution_count": 73,
   "id": "54419f1d",
   "metadata": {},
   "outputs": [
    {
     "name": "stderr",
     "output_type": "stream",
     "text": [
      "RDKit ERROR: [15:46:36] Explicit valence for atom # 17 C, 6, is greater than permitted\n",
      "Traceback (most recent call last):\n",
      "  File \"/home/Luis/.conda/envs/ecif/lib/python3.7/site-packages/rdkit/ML/Descriptors/MoleculeDescriptors.py\", line 88, in CalcDescriptors\n",
      "    res[i] = fn(mol)\n",
      "  File \"/home/Luis/.conda/envs/ecif/lib/python3.7/site-packages/rdkit/Chem/QED.py\", line 286, in qed\n",
      "    qedProperties = properties(mol)\n",
      "  File \"/home/Luis/.conda/envs/ecif/lib/python3.7/site-packages/rdkit/Chem/QED.py\", line 249, in properties\n",
      "    mol = Chem.RemoveHs(mol)\n",
      "rdkit.Chem.rdchem.AtomValenceException: Explicit valence for atom # 17 C, 6, is greater than permitted\n"
     ]
    }
   ],
   "source": [
    "import pandas as pd\n",
    "from ECIF.ecif import *\n",
    "\n",
    "# Two example structures\n",
    "Protein = \"ECIF/Example_Structures/1a0q_protein.pdb\"\n",
    "Ligand = \"ECIF/Example_Structures/1a0q_ligandCD1.sdf\"\n",
    "\n",
    "# Calculate descriptors with their code\n",
    "df_ligand = LoadSDFasDF(Ligand)\n",
    "df_protein = LoadPDBasDF(Protein)\n",
    "\n",
    "their_ecif = GetECIF(Protein, Ligand, distance_cutoff=6.0)\n",
    "their_ld = GetRDKitDescriptors(Ligand)\n",
    "\n",
    "their_ecif_ld = pd.DataFrame([their_ecif], columns=PossibleECIF).join(pd.DataFrame([their_ld], columns=LigandDescriptors))\n",
    "\n",
    "# Load the descriptors calculated with our script.\n",
    "our_ecif_ld = pd.read_csv('our_example_descriptors.csv', sep=',', usecols=lambda x: x != 'Name')"
   ]
  },
  {
   "cell_type": "code",
   "execution_count": 74,
   "id": "99fbb018",
   "metadata": {},
   "outputs": [
    {
     "data": {
      "text/html": [
       "<div>\n",
       "<style scoped>\n",
       "    .dataframe tbody tr th:only-of-type {\n",
       "        vertical-align: middle;\n",
       "    }\n",
       "\n",
       "    .dataframe tbody tr th {\n",
       "        vertical-align: top;\n",
       "    }\n",
       "\n",
       "    .dataframe thead th {\n",
       "        text-align: right;\n",
       "    }\n",
       "</style>\n",
       "<table border=\"1\" class=\"dataframe\">\n",
       "  <thead>\n",
       "    <tr style=\"text-align: right;\">\n",
       "      <th></th>\n",
       "      <th>C;4;1;3;0;0-Br;1;1;0;0;0</th>\n",
       "      <th>C;4;1;3;0;0-C;3;3;0;1;1</th>\n",
       "      <th>C;4;1;3;0;0-C;4;1;1;0;0</th>\n",
       "      <th>C;4;1;3;0;0-C;4;1;2;0;0</th>\n",
       "      <th>C;4;1;3;0;0-C;4;1;3;0;0</th>\n",
       "      <th>C;4;1;3;0;0-C;4;2;0;0;0</th>\n",
       "      <th>C;4;1;3;0;0-C;4;2;1;0;0</th>\n",
       "      <th>C;4;1;3;0;0-C;4;2;1;0;1</th>\n",
       "      <th>C;4;1;3;0;0-C;4;2;1;1;1</th>\n",
       "      <th>C;4;1;3;0;0-C;4;2;2;0;0</th>\n",
       "      <th>...</th>\n",
       "      <th>fr_quatN</th>\n",
       "      <th>fr_sulfide</th>\n",
       "      <th>fr_sulfonamd</th>\n",
       "      <th>fr_sulfone</th>\n",
       "      <th>fr_term_acetylene</th>\n",
       "      <th>fr_tetrazole</th>\n",
       "      <th>fr_thiazole</th>\n",
       "      <th>fr_thiocyan</th>\n",
       "      <th>fr_thiophene</th>\n",
       "      <th>fr_urea</th>\n",
       "    </tr>\n",
       "  </thead>\n",
       "  <tbody>\n",
       "    <tr>\n",
       "      <th>0</th>\n",
       "      <td>0</td>\n",
       "      <td>0</td>\n",
       "      <td>0</td>\n",
       "      <td>0</td>\n",
       "      <td>3</td>\n",
       "      <td>0</td>\n",
       "      <td>0</td>\n",
       "      <td>0</td>\n",
       "      <td>15</td>\n",
       "      <td>8</td>\n",
       "      <td>...</td>\n",
       "      <td>0</td>\n",
       "      <td>0</td>\n",
       "      <td>0</td>\n",
       "      <td>0</td>\n",
       "      <td>0</td>\n",
       "      <td>0</td>\n",
       "      <td>0</td>\n",
       "      <td>0</td>\n",
       "      <td>0</td>\n",
       "      <td>0</td>\n",
       "    </tr>\n",
       "  </tbody>\n",
       "</table>\n",
       "<p>1 rows × 1710 columns</p>\n",
       "</div>"
      ],
      "text/plain": [
       "   C;4;1;3;0;0-Br;1;1;0;0;0  C;4;1;3;0;0-C;3;3;0;1;1  C;4;1;3;0;0-C;4;1;1;0;0  \\\n",
       "0                         0                        0                        0   \n",
       "\n",
       "   C;4;1;3;0;0-C;4;1;2;0;0  C;4;1;3;0;0-C;4;1;3;0;0  C;4;1;3;0;0-C;4;2;0;0;0  \\\n",
       "0                        0                        3                        0   \n",
       "\n",
       "   C;4;1;3;0;0-C;4;2;1;0;0  C;4;1;3;0;0-C;4;2;1;0;1  C;4;1;3;0;0-C;4;2;1;1;1  \\\n",
       "0                        0                        0                       15   \n",
       "\n",
       "   C;4;1;3;0;0-C;4;2;2;0;0  ...  fr_quatN  fr_sulfide  fr_sulfonamd  \\\n",
       "0                        8  ...         0           0             0   \n",
       "\n",
       "   fr_sulfone  fr_term_acetylene  fr_tetrazole  fr_thiazole  fr_thiocyan  \\\n",
       "0           0                  0             0            0            0   \n",
       "\n",
       "   fr_thiophene  fr_urea  \n",
       "0             0        0  \n",
       "\n",
       "[1 rows x 1710 columns]"
      ]
     },
     "execution_count": 74,
     "metadata": {},
     "output_type": "execute_result"
    }
   ],
   "source": [
    "their_ecif_ld.head()"
   ]
  },
  {
   "cell_type": "code",
   "execution_count": 75,
   "id": "190f99ed",
   "metadata": {},
   "outputs": [
    {
     "data": {
      "text/html": [
       "<div>\n",
       "<style scoped>\n",
       "    .dataframe tbody tr th:only-of-type {\n",
       "        vertical-align: middle;\n",
       "    }\n",
       "\n",
       "    .dataframe tbody tr th {\n",
       "        vertical-align: top;\n",
       "    }\n",
       "\n",
       "    .dataframe thead th {\n",
       "        text-align: right;\n",
       "    }\n",
       "</style>\n",
       "<table border=\"1\" class=\"dataframe\">\n",
       "  <thead>\n",
       "    <tr style=\"text-align: right;\">\n",
       "      <th></th>\n",
       "      <th>C;4;1;3;0;0-Br;1;1;0;0;0</th>\n",
       "      <th>C;4;1;3;0;0-C;3;3;0;1;1</th>\n",
       "      <th>C;4;1;3;0;0-C;4;1;1;0;0</th>\n",
       "      <th>C;4;1;3;0;0-C;4;1;2;0;0</th>\n",
       "      <th>C;4;1;3;0;0-C;4;1;3;0;0</th>\n",
       "      <th>C;4;1;3;0;0-C;4;2;0;0;0</th>\n",
       "      <th>C;4;1;3;0;0-C;4;2;1;0;0</th>\n",
       "      <th>C;4;1;3;0;0-C;4;2;1;0;1</th>\n",
       "      <th>C;4;1;3;0;0-C;4;2;1;1;1</th>\n",
       "      <th>C;4;1;3;0;0-C;4;2;2;0;0</th>\n",
       "      <th>...</th>\n",
       "      <th>fr_quatN</th>\n",
       "      <th>fr_sulfide</th>\n",
       "      <th>fr_sulfonamd</th>\n",
       "      <th>fr_sulfone</th>\n",
       "      <th>fr_term_acetylene</th>\n",
       "      <th>fr_tetrazole</th>\n",
       "      <th>fr_thiazole</th>\n",
       "      <th>fr_thiocyan</th>\n",
       "      <th>fr_thiophene</th>\n",
       "      <th>fr_urea</th>\n",
       "    </tr>\n",
       "  </thead>\n",
       "  <tbody>\n",
       "    <tr>\n",
       "      <th>0</th>\n",
       "      <td>0</td>\n",
       "      <td>0</td>\n",
       "      <td>0</td>\n",
       "      <td>0</td>\n",
       "      <td>3</td>\n",
       "      <td>0</td>\n",
       "      <td>0</td>\n",
       "      <td>0</td>\n",
       "      <td>15</td>\n",
       "      <td>8</td>\n",
       "      <td>...</td>\n",
       "      <td>0</td>\n",
       "      <td>0</td>\n",
       "      <td>0</td>\n",
       "      <td>0</td>\n",
       "      <td>0</td>\n",
       "      <td>0</td>\n",
       "      <td>0</td>\n",
       "      <td>0</td>\n",
       "      <td>0</td>\n",
       "      <td>0</td>\n",
       "    </tr>\n",
       "  </tbody>\n",
       "</table>\n",
       "<p>1 rows × 1710 columns</p>\n",
       "</div>"
      ],
      "text/plain": [
       "   C;4;1;3;0;0-Br;1;1;0;0;0  C;4;1;3;0;0-C;3;3;0;1;1  C;4;1;3;0;0-C;4;1;1;0;0  \\\n",
       "0                         0                        0                        0   \n",
       "\n",
       "   C;4;1;3;0;0-C;4;1;2;0;0  C;4;1;3;0;0-C;4;1;3;0;0  C;4;1;3;0;0-C;4;2;0;0;0  \\\n",
       "0                        0                        3                        0   \n",
       "\n",
       "   C;4;1;3;0;0-C;4;2;1;0;0  C;4;1;3;0;0-C;4;2;1;0;1  C;4;1;3;0;0-C;4;2;1;1;1  \\\n",
       "0                        0                        0                       15   \n",
       "\n",
       "   C;4;1;3;0;0-C;4;2;2;0;0  ...  fr_quatN  fr_sulfide  fr_sulfonamd  \\\n",
       "0                        8  ...         0           0             0   \n",
       "\n",
       "   fr_sulfone  fr_term_acetylene  fr_tetrazole  fr_thiazole  fr_thiocyan  \\\n",
       "0           0                  0             0            0            0   \n",
       "\n",
       "   fr_thiophene  fr_urea  \n",
       "0             0        0  \n",
       "\n",
       "[1 rows x 1710 columns]"
      ]
     },
     "execution_count": 75,
     "metadata": {},
     "output_type": "execute_result"
    }
   ],
   "source": [
    "our_ecif_ld.head()"
   ]
  },
  {
   "cell_type": "markdown",
   "id": "5df17f32",
   "metadata": {},
   "source": [
    "Comparing both descriptors, we find that not all values are equal."
   ]
  },
  {
   "cell_type": "code",
   "execution_count": 76,
   "id": "21caedc8",
   "metadata": {},
   "outputs": [
    {
     "data": {
      "text/plain": [
       "False"
      ]
     },
     "execution_count": 76,
     "metadata": {},
     "output_type": "execute_result"
    }
   ],
   "source": [
    "our_ecif_ld.equals(their_ecif_ld)"
   ]
  },
  {
   "cell_type": "markdown",
   "id": "a8a63fad",
   "metadata": {},
   "source": [
    "Let's see, which values differ."
   ]
  },
  {
   "cell_type": "code",
   "execution_count": 77,
   "id": "df05c93a",
   "metadata": {},
   "outputs": [
    {
     "data": {
      "text/html": [
       "<div>\n",
       "<style scoped>\n",
       "    .dataframe tbody tr th:only-of-type {\n",
       "        vertical-align: middle;\n",
       "    }\n",
       "\n",
       "    .dataframe tbody tr th {\n",
       "        vertical-align: top;\n",
       "    }\n",
       "\n",
       "    .dataframe thead th {\n",
       "        text-align: right;\n",
       "    }\n",
       "</style>\n",
       "<table border=\"1\" class=\"dataframe\">\n",
       "  <thead>\n",
       "    <tr style=\"text-align: right;\">\n",
       "      <th></th>\n",
       "      <th>Chi0n</th>\n",
       "      <th>HallKierAlpha</th>\n",
       "      <th>Kappa1</th>\n",
       "      <th>SMR_VSA7</th>\n",
       "      <th>SlogP_VSA6</th>\n",
       "      <th>TPSA</th>\n",
       "      <th>EState_VSA1</th>\n",
       "      <th>EState_VSA9</th>\n",
       "    </tr>\n",
       "  </thead>\n",
       "  <tbody>\n",
       "    <tr>\n",
       "      <th>0</th>\n",
       "      <td>30.843917</td>\n",
       "      <td>0.15</td>\n",
       "      <td>6.100099</td>\n",
       "      <td>30.212094</td>\n",
       "      <td>30.212094</td>\n",
       "      <td>106.61</td>\n",
       "      <td>104.550921</td>\n",
       "      <td>27.456255</td>\n",
       "    </tr>\n",
       "  </tbody>\n",
       "</table>\n",
       "</div>"
      ],
      "text/plain": [
       "       Chi0n  HallKierAlpha    Kappa1   SMR_VSA7  SlogP_VSA6    TPSA  \\\n",
       "0  30.843917           0.15  6.100099  30.212094   30.212094  106.61   \n",
       "\n",
       "   EState_VSA1  EState_VSA9  \n",
       "0   104.550921    27.456255  "
      ]
     },
     "execution_count": 77,
     "metadata": {},
     "output_type": "execute_result"
    }
   ],
   "source": [
    "eq = our_ecif_ld.eq(their_ecif_ld)\n",
    "our_ecif_ld.loc[:, eq.columns[(eq == False).all()]]"
   ]
  },
  {
   "cell_type": "code",
   "execution_count": 78,
   "id": "b3512cf9",
   "metadata": {},
   "outputs": [
    {
     "data": {
      "text/html": [
       "<div>\n",
       "<style scoped>\n",
       "    .dataframe tbody tr th:only-of-type {\n",
       "        vertical-align: middle;\n",
       "    }\n",
       "\n",
       "    .dataframe tbody tr th {\n",
       "        vertical-align: top;\n",
       "    }\n",
       "\n",
       "    .dataframe thead th {\n",
       "        text-align: right;\n",
       "    }\n",
       "</style>\n",
       "<table border=\"1\" class=\"dataframe\">\n",
       "  <thead>\n",
       "    <tr style=\"text-align: right;\">\n",
       "      <th></th>\n",
       "      <th>Chi0n</th>\n",
       "      <th>HallKierAlpha</th>\n",
       "      <th>Kappa1</th>\n",
       "      <th>SMR_VSA7</th>\n",
       "      <th>SlogP_VSA6</th>\n",
       "      <th>TPSA</th>\n",
       "      <th>EState_VSA1</th>\n",
       "      <th>EState_VSA9</th>\n",
       "    </tr>\n",
       "  </thead>\n",
       "  <tbody>\n",
       "    <tr>\n",
       "      <th>0</th>\n",
       "      <td>30.843917</td>\n",
       "      <td>0.15</td>\n",
       "      <td>6.100099</td>\n",
       "      <td>30.212094</td>\n",
       "      <td>30.212094</td>\n",
       "      <td>106.61</td>\n",
       "      <td>104.550921</td>\n",
       "      <td>27.456255</td>\n",
       "    </tr>\n",
       "  </tbody>\n",
       "</table>\n",
       "</div>"
      ],
      "text/plain": [
       "       Chi0n  HallKierAlpha    Kappa1   SMR_VSA7  SlogP_VSA6    TPSA  \\\n",
       "0  30.843917           0.15  6.100099  30.212094   30.212094  106.61   \n",
       "\n",
       "   EState_VSA1  EState_VSA9  \n",
       "0   104.550921    27.456255  "
      ]
     },
     "execution_count": 78,
     "metadata": {},
     "output_type": "execute_result"
    }
   ],
   "source": [
    "their_ecif_ld.loc[:, eq.columns[(eq == False).all()]]"
   ]
  },
  {
   "cell_type": "markdown",
   "id": "ff35d975",
   "metadata": {},
   "source": [
    "Let's see how much they actually differ. As you can see, the difference is negligible."
   ]
  },
  {
   "cell_type": "code",
   "execution_count": 79,
   "id": "af73fad6",
   "metadata": {},
   "outputs": [
    {
     "name": "stdout",
     "output_type": "stream",
     "text": [
      "Chi0n\n",
      "Ours  : 30.843916933783092\n",
      "Theirs: 30.843916933783095\n",
      "\n",
      "HallKierAlpha\n",
      "Ours  : 0.1499999999999999\n",
      "Theirs: 0.14999999999999997\n",
      "\n",
      "Kappa1\n",
      "Ours  : 6.100098621183212\n",
      "Theirs: 6.1000986211832116\n",
      "\n",
      "SMR_VSA7\n",
      "Ours  : 30.212093538316477\n",
      "Theirs: 30.212093538316473\n",
      "\n",
      "SlogP_VSA6\n",
      "Ours  : 30.212093538316477\n",
      "Theirs: 30.212093538316473\n",
      "\n",
      "TPSA\n",
      "Ours  : 106.61\n",
      "Theirs: 106.61000000000001\n",
      "\n",
      "EState_VSA1\n",
      "Ours  : 104.55092087165296\n",
      "Theirs: 104.55092087165295\n",
      "\n",
      "EState_VSA9\n",
      "Ours  : 27.45625464556237\n",
      "Theirs: 27.456254645562375\n",
      "\n"
     ]
    }
   ],
   "source": [
    "for col in eq.columns[(eq == False).all()]:\n",
    "    print(col)\n",
    "    print(f'Ours  : {our_ecif_ld.loc[0, col]}')\n",
    "    print(f'Theirs: {their_ecif_ld.loc[0, col]}')\n",
    "    print()"
   ]
  }
 ],
 "metadata": {
  "kernelspec": {
   "display_name": "Python 3",
   "language": "python",
   "name": "python3"
  },
  "language_info": {
   "codemirror_mode": {
    "name": "ipython",
    "version": 3
   },
   "file_extension": ".py",
   "mimetype": "text/x-python",
   "name": "python",
   "nbconvert_exporter": "python",
   "pygments_lexer": "ipython3",
   "version": "3.7.11"
  }
 },
 "nbformat": 4,
 "nbformat_minor": 5
}
